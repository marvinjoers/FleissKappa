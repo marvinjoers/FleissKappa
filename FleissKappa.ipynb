{
 "cells": [
  {
   "cell_type": "code",
   "execution_count": null,
   "id": "09e74be0",
   "metadata": {},
   "outputs": [],
   "source": [
    "import pandas as pd\n",
    "\n",
    "# Download: https://github.com/marvinjoers/FleissKappa/blob/main/FleissKappa.xlsx\n",
    "DF = pd.read_excel('FleissKappa.xlsx')"
   ]
  },
  {
   "cell_type": "code",
   "execution_count": null,
   "id": "6bc40a2c",
   "metadata": {},
   "outputs": [],
   "source": [
    "def LandisKoch1977(val):\n",
    "    if val > 0.8:\n",
    "        print(\"almost perfect\")\n",
    "    elif 0.61 <= val <= 0.8:\n",
    "        print(\"substantial\")\n",
    "    elif 0.41 <= val <= 0.6:\n",
    "        print(\"moderate\")\n",
    "    elif 0.21 <= val <= 0.4:\n",
    "        print(\"fair\")\n",
    "    elif 0.01 <= val <= 0.20:\n",
    "        print(\"fair\")\n",
    "    else: \n",
    "        print(\"poor agreement\")"
   ]
  },
  {
   "cell_type": "code",
   "execution_count": null,
   "id": "8661aca8",
   "metadata": {},
   "outputs": [],
   "source": [
    "rows = []\n",
    "columns = []\n",
    "\n",
    "total = DF[DF.columns[1:]]\n",
    "k = len(DF.columns) - 1\n",
    "print(\"k: \" + str(k))\n",
    "\n",
    "# Columns\n",
    "\n",
    "for column in total:\n",
    "    columns.append(total[column].tolist())\n",
    "    \n",
    "N = len(columns[0])\n",
    "print(\"N: \" + str(N))\n",
    "\n",
    "# Rows\n",
    "r = 0\n",
    "while r < N:\n",
    "    tempRow = DF.iloc[r][1:].tolist()\n",
    "    rows.append(tempRow)\n",
    "    r += 1\n",
    "    \n",
    "n = sum(rows[0])\n",
    "print(\"n: \" + str(n))"
   ]
  },
  {
   "cell_type": "code",
   "execution_count": null,
   "id": "28ff6265",
   "metadata": {},
   "outputs": [],
   "source": [
    "p_j_values = []\n",
    "    \n",
    "for c in columns:\n",
    "    p_j_values.append(sum(c)/(N*n))"
   ]
  },
  {
   "cell_type": "code",
   "execution_count": null,
   "id": "64a5d3ca",
   "metadata": {},
   "outputs": [],
   "source": [
    "P_j_values = []\n",
    "\n",
    "for r in rows:\n",
    "    t1 = 0\n",
    "    for value in r:\n",
    "        t1 += value*value        \n",
    "    t2 = t1 - n\n",
    "    t3 = 1/(n*(n-1)) * t2\n",
    "    P_j_values.append(t3)"
   ]
  },
  {
   "cell_type": "code",
   "execution_count": null,
   "id": "0572ebbb",
   "metadata": {},
   "outputs": [],
   "source": [
    "# FleissKappa\n",
    "\n",
    "P_avg = sum(P_j_values)/N\n",
    "P_exp_avg = 0\n",
    "for val in p_j_values:\n",
    "    P_exp_avg += val*val\n",
    "\n",
    "FleissKappa = (P_avg - P_exp_avg)/(1 - P_exp_avg)\n",
    "print(FleissKappa)\n",
    "LandisKoch1977(FleissKappa)"
   ]
  }
 ],
 "metadata": {
  "kernelspec": {
   "display_name": "Python 3",
   "language": "python",
   "name": "python3"
  },
  "language_info": {
   "codemirror_mode": {
    "name": "ipython",
    "version": 3
   },
   "file_extension": ".py",
   "mimetype": "text/x-python",
   "name": "python",
   "nbconvert_exporter": "python",
   "pygments_lexer": "ipython3",
   "version": "3.8.8"
  }
 },
 "nbformat": 4,
 "nbformat_minor": 5
}
